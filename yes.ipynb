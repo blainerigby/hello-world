{
 "cells": [
  {
   "cell_type": "code",
   "execution_count": 1,
   "id": "a72a1a99-b9b2-4b2b-b227-fc9fba761012",
   "metadata": {},
   "outputs": [
    {
     "name": "stdin",
     "output_type": "stream",
     "text": [
      "What are your names?  Sharon, Blaine, and Zahara\n"
     ]
    },
    {
     "name": "stdout",
     "output_type": "stream",
     "text": [
      "Hello, Sharon, Blaine, and Zahara!\n"
     ]
    }
   ],
   "source": [
    "name = input(\"What are your names? \")\n",
    "print(\"Hello, \" + name + \"!\")"
   ]
  },
  {
   "cell_type": "code",
   "execution_count": 2,
   "id": "d1496d33-23e7-4fa1-8b23-4d4b71bdb408",
   "metadata": {},
   "outputs": [
    {
     "name": "stdin",
     "output_type": "stream",
     "text": [
      "How old are you guys?  20, 18, and 18\n"
     ]
    },
    {
     "name": "stdout",
     "output_type": "stream",
     "text": [
      "You guys are 20, 18, and 18 years old, thats crazy!\n"
     ]
    }
   ],
   "source": [
    "age = input(\"How old are you guys? \")\n",
    "print(\"You guys are \" + age + \" years old, thats crazy!\")"
   ]
  },
  {
   "cell_type": "code",
   "execution_count": null,
   "id": "fafeadc1-7891-4c87-aff3-0feec6679c9c",
   "metadata": {},
   "outputs": [],
   "source": []
  }
 ],
 "metadata": {
  "kernelspec": {
   "display_name": "Python 3 (ipykernel)",
   "language": "python",
   "name": "python3"
  },
  "language_info": {
   "codemirror_mode": {
    "name": "ipython",
    "version": 3
   },
   "file_extension": ".py",
   "mimetype": "text/x-python",
   "name": "python",
   "nbconvert_exporter": "python",
   "pygments_lexer": "ipython3",
   "version": "3.11.13"
  }
 },
 "nbformat": 4,
 "nbformat_minor": 5
}
